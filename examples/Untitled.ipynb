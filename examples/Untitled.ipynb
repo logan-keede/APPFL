{
 "cells": [
  {
   "cell_type": "code",
   "execution_count": 3,
   "id": "9511619a-d26e-49b2-93d5-d23388d0e9ca",
   "metadata": {},
   "outputs": [],
   "source": [
    "from omegaconf import OmegaConf\n",
    "from appfl.agent import ServerAgent\n",
    "from appfl.comm.grpc import GRPCServerCommunicator, serve\n",
    "\n",
    "def serve(config='./resources/configs/mnist/server_fedcompass.yaml'):\n",
    "    server_agent_config = OmegaConf.load(config)\n",
    "    server_agent = ServerAgent(server_agent_config=server_agent_config)\n",
    "    communicator = GRPCServerCommunicator(\n",
    "        server_agent,\n",
    "        logger=server_agent.logger,\n",
    "        **server_agent_config.server_configs.comm_configs.grpc_configs,\n",
    "    )\n",
    "    \n",
    "    communicator = GRPCServerCommunicator(\n",
    "        server_agent,\n",
    "        logger=server_agent.logger,\n",
    "        **server_agent_config.server_configs.comm_configs.grpc_configs,\n",
    "    )\n",
    "    \n",
    "    # print(server_agent_config.server_configs.comm_configs.grpc_configs[\"server_uri\"])\n",
    "    \n",
    "    \n",
    "    serve(\n",
    "        communicator,\n",
    "        **server_agent_config.server_configs.comm_configs.grpc_configs,\n",
    "    )\n"
   ]
  },
  {
   "cell_type": "code",
   "execution_count": 5,
   "id": "e9c6ea0b-1af7-4ee5-bc03-7570fd27e768",
   "metadata": {},
   "outputs": [
    {
     "name": "stdout",
     "output_type": "stream",
     "text": [
      "\u001b[34m\u001b[1mappfl: ✅\u001b[0m[2025-04-02 19:17:54,341 server]: Logging to ./output/result_Server_2025-04-02-19-17-54.txt\n",
      "localhost:50051\n",
      "^C\n",
      "\u001b[34m\u001b[1mappfl: ✅\u001b[0m[2025-04-02 19:18:10,158 server]: Terminating the server ...\n"
     ]
    }
   ],
   "source": [
    "!python exp.py"
   ]
  },
  {
   "cell_type": "code",
   "execution_count": null,
   "id": "d92163ff-a21a-417a-9c6e-a7c90903c6ff",
   "metadata": {},
   "outputs": [],
   "source": []
  }
 ],
 "metadata": {
  "kernelspec": {
   "display_name": "Python 3 (ipykernel)",
   "language": "python",
   "name": "python3"
  },
  "language_info": {
   "codemirror_mode": {
    "name": "ipython",
    "version": 3
   },
   "file_extension": ".py",
   "mimetype": "text/x-python",
   "name": "python",
   "nbconvert_exporter": "python",
   "pygments_lexer": "ipython3",
   "version": "3.12.9"
  }
 },
 "nbformat": 4,
 "nbformat_minor": 5
}
